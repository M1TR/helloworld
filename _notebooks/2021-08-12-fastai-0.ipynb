{
 "cells": [
  {
   "cell_type": "markdown",
   "metadata": {},
   "source": [
    "# My Fast.ai Journey - Chapter 0\n",
    "> An introduction to a series of articles about Part 1 of the Fast.ai MOOC and my plans for a capstone project.\n",
    "\n",
    "- badges: true\n",
    "- comments: true\n",
    "- categories: [fastbook, jupyter, fastai]"
   ]
  },
  {
   "cell_type": "markdown",
   "metadata": {},
   "source": [
    "I won't lie, I've procrastinated long enough to write this post. I've known about [Fast.ai](https://www.fast.ai/) since 2018 and it's only now that I've managed to complete [Part 1 of the MOOC](https://course.fast.ai/). This is the latest 2020 edition of the course and a Part 2 has not yet been announced. However, Part 1 does offer a pretty comprehensive look into the state of the machine learning world today. There aren't any discussions about the bleeding edge of self-supervised learning or NLP, but that's to be expected from a course that's designed to serve as the stepping stone into the world of machine learning."
   ]
  },
  {
   "cell_type": "markdown",
   "metadata": {},
   "source": [
    "And to paraphrase Ze Frank here, I became fascinated by the shape of the stone!{% fn 1 %}"
   ]
  },
  {
   "cell_type": "markdown",
   "metadata": {},
   "source": [
    "As beginner-friendly as Fast.ai is, it does not come at the cost of features or flexibility. It is well suited to building commercial grade products as well as perform cutting-edge research. For now though, we'll limit ourselves to the topics covered in Part 1 of the Fast.ai MOOC *Practical Deep Learning for Coders*. "
   ]
  },
  {
   "cell_type": "markdown",
   "metadata": {},
   "source": [
    "The course covers the most common usecases for machine learning:\n",
    "- Computer Vision, including image classification and object detection\n",
    "- Natural Language Processing, including language modelling (i.e. text generation) and document classification\n",
    "- Tabular Data Analysis, including categorical and continuous data, and time series data\n",
    "- Collaborative Filtering, i.e. recommendataion systems"
   ]
  },
  {
   "cell_type": "markdown",
   "metadata": {},
   "source": [
    "The course also covers a variety of best known methods (BKMs) and tricks which are empirically known to perform well during model training and inference."
   ]
  },
  {
   "cell_type": "markdown",
   "metadata": {},
   "source": [
    "While the course and the accompanying book, which is also [available free of cost here](https://github.com/fastai/fastbook), have been written from a teaching perspective, my goal with this series of articles is to distill the book down to its bare minimum, comprising only what's needed to get up and running with Fast.ai and become a practitioner. I will be glossing over a lot of theory and explanatory stuff; if you are a beginner with little prior knowledge about machine learning or the mathematics behind it, I will leave a few links to other resources when needed but would otherwise recommend that you complete the course directly. If you'd like to see a \"best of\", however, keep reading!"
   ]
  },
  {
   "cell_type": "markdown",
   "metadata": {},
   "source": [
    "I also aim to cap off this series with a capstone project of sorts; I don't really have an idea about the usecase yet, but you never know when inspiration strikes! As of now, the most likely candidates are:\n",
    "- Battery Health Prediction using [NASA PCoE Battery Data](https://ti.arc.nasa.gov/tech/dash/groups/pcoe/battery-prognostics/)\n",
    "- Novel Bengali Poetry (i.e. pick-up lines) Generator using [Free Bengali Poetry](https://www.kaggle.com/truthr/free-bengali-poetry) dataset by [Ritobrata Ghosh](https://twitter.com/AllesistKode)"
   ]
  },
  {
   "cell_type": "markdown",
   "metadata": {},
   "source": [
    "Here's the ToC for the series!\n",
    "\n",
    "1. blah\n",
    "2. blah\n",
    "3. blah\n",
    "4. blah\n",
    "5. blah"
   ]
  },
  {
   "cell_type": "markdown",
   "metadata": {},
   "source": [
    "With that out of the way, let's get started!"
   ]
  },
  {
   "cell_type": "markdown",
   "metadata": {},
   "source": [
    "### Footnotes\n",
    "\n",
    "{{ 'Ze Frank, [An Invocation for Beginnings](https://www.youtube.com/watch?v=RYlCVwxoL_g)' | fndetail: 1 }}"
   ]
  }
 ],
 "metadata": {
  "kernelspec": {
   "display_name": "Python 3",
   "language": "python",
   "name": "python3"
  },
  "language_info": {
   "codemirror_mode": {
    "name": "ipython",
    "version": 3
   },
   "file_extension": ".py",
   "mimetype": "text/x-python",
   "name": "python",
   "nbconvert_exporter": "python",
   "pygments_lexer": "ipython3",
   "version": "3.8.6"
  }
 },
 "nbformat": 4,
 "nbformat_minor": 4
}
