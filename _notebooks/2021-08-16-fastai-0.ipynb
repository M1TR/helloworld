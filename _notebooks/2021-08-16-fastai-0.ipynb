{
 "cells": [
  {
   "cell_type": "markdown",
   "metadata": {},
   "source": [
    "# My Fast.ai Journey - Chapter 0\n",
    "> An introduction to a series of articles about Part 1 of the Fast.ai MOOC and my plans for a capstone project.\n",
    "\n",
    "- badges: true\n",
    "- comments: true\n",
    "- categories: [fastbook, jupyter, fastai]"
   ]
  },
  {
   "cell_type": "markdown",
   "metadata": {},
   "source": [
    "I've done it! I've finally completed Part 1 of the Fast.ai course. It took me some time, what with working full time and the numerous psychological setbacks that come with being confined to one's house as less fortunate people bear the brunt of aa global pandemic, but I persevered. Another major goal I had was to document my learning journey and start a blog. I haven't really spared much thought towards the intent of the blog or its audience but for now, I'm going to simply prepare a basic (read: beginner-level) reference guide to the Fast.ai library and how to perform some common machine learning usecases using it."
   ]
  },
  {
   "cell_type": "markdown",
   "metadata": {},
   "source": [
    "I'll write additional articles as I dive deeper into Fast.ai and machine learning in general but if you are an advanced practitioner, expect this series to be *pretty* boring! However, if you have constructive criticism, I'm always happy to hear it."
   ]
  },
  {
   "cell_type": "markdown",
   "metadata": {},
   "source": [
    "Once I complete this series of articles, my plan is to start working on projects. I am not planning on deriving state-of-the-art results or tackling global warming, but build something fun and interesting which will give me an excuse to write code everyday and sharpen my Google-fu skills!\n",
    "\n",
    "Right now, I have two projects in mind:\n",
    "- Battery Health Prediction using [NASA PCoE Battery Data](https://ti.arc.nasa.gov/tech/dash/groups/pcoe/battery-prognostics/)\n",
    "- Novel Bengali Poetry (i.e. pick-up lines) Generator using [Free Bengali Poetry](https://www.kaggle.com/truthr/free-bengali-poetry) dataset by [Ritobrata Ghosh](https://twitter.com/AllesistKode)\n",
    "\n",
    "When (and if) inspiration strikes, I'll add other potential project ideas here. I might decide to look into some medical usecases like radiography or blood film analysis later on."
   ]
  },
  {
   "cell_type": "markdown",
   "metadata": {},
   "source": [
    "> There's no need to sharpen my pencils anymore, my pencils are sharp enough; even the dull ones will make a mark.\n",
    ">\n",
    "> Warts and all.\n",
    ">\n",
    "> Let's start this shit up!{% fn 1 %}"
   ]
  },
  {
   "cell_type": "markdown",
   "metadata": {},
   "source": [
    "Here's the ToC for the series. Hope to see you around!\n",
    "\n",
    "1. [Placeholder](placeholder)\n",
    "2. [Placeholder](placeholder)\n",
    "3. [Placeholder](placeholder)"
   ]
  },
  {
   "cell_type": "markdown",
   "metadata": {},
   "source": [
    "### Footnotes\n",
    "\n",
    "{{ 'Ze Frank, [An Invocation for Beginnings](https://www.youtube.com/watch?v=RYlCVwxoL_g)' | fndetail: 1 }}"
   ]
  }
 ],
 "metadata": {
  "kernelspec": {
   "display_name": "Python 3",
   "language": "python",
   "name": "python3"
  },
  "language_info": {
   "codemirror_mode": {
    "name": "ipython",
    "version": 3
   },
   "file_extension": ".py",
   "mimetype": "text/x-python",
   "name": "python",
   "nbconvert_exporter": "python",
   "pygments_lexer": "ipython3",
   "version": "3.8.6"
  }
 },
 "nbformat": 4,
 "nbformat_minor": 4
}
